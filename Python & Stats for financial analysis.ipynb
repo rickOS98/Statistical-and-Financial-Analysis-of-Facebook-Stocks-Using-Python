{
 "cells": [
  {
   "cell_type": "code",
   "execution_count": 89,
   "id": "097c6762-9c94-4078-b183-2729bff9b1a1",
   "metadata": {},
   "outputs": [
    {
     "name": "stdout",
     "output_type": "stream",
     "text": [
      "Requirement already satisfied: yfinance in /opt/anaconda3/lib/python3.11/site-packages (0.2.50)\n",
      "Requirement already satisfied: pandas>=1.3.0 in /opt/anaconda3/lib/python3.11/site-packages (from yfinance) (2.1.4)\n",
      "Requirement already satisfied: numpy>=1.16.5 in /opt/anaconda3/lib/python3.11/site-packages (from yfinance) (1.26.4)\n",
      "Requirement already satisfied: requests>=2.31 in /opt/anaconda3/lib/python3.11/site-packages (from yfinance) (2.31.0)\n",
      "Requirement already satisfied: multitasking>=0.0.7 in /opt/anaconda3/lib/python3.11/site-packages (from yfinance) (0.0.11)\n",
      "Requirement already satisfied: lxml>=4.9.1 in /opt/anaconda3/lib/python3.11/site-packages (from yfinance) (4.9.3)\n",
      "Requirement already satisfied: platformdirs>=2.0.0 in /opt/anaconda3/lib/python3.11/site-packages (from yfinance) (3.10.0)\n",
      "Requirement already satisfied: pytz>=2022.5 in /opt/anaconda3/lib/python3.11/site-packages (from yfinance) (2023.3.post1)\n",
      "Requirement already satisfied: frozendict>=2.3.4 in /opt/anaconda3/lib/python3.11/site-packages (from yfinance) (2.4.6)\n",
      "Requirement already satisfied: peewee>=3.16.2 in /opt/anaconda3/lib/python3.11/site-packages (from yfinance) (3.17.8)\n",
      "Requirement already satisfied: beautifulsoup4>=4.11.1 in /opt/anaconda3/lib/python3.11/site-packages (from yfinance) (4.12.2)\n",
      "Requirement already satisfied: html5lib>=1.1 in /opt/anaconda3/lib/python3.11/site-packages (from yfinance) (1.1)\n",
      "Requirement already satisfied: soupsieve>1.2 in /opt/anaconda3/lib/python3.11/site-packages (from beautifulsoup4>=4.11.1->yfinance) (2.5)\n",
      "Requirement already satisfied: six>=1.9 in /opt/anaconda3/lib/python3.11/site-packages (from html5lib>=1.1->yfinance) (1.16.0)\n",
      "Requirement already satisfied: webencodings in /opt/anaconda3/lib/python3.11/site-packages (from html5lib>=1.1->yfinance) (0.5.1)\n",
      "Requirement already satisfied: python-dateutil>=2.8.2 in /opt/anaconda3/lib/python3.11/site-packages (from pandas>=1.3.0->yfinance) (2.8.2)\n",
      "Requirement already satisfied: tzdata>=2022.1 in /opt/anaconda3/lib/python3.11/site-packages (from pandas>=1.3.0->yfinance) (2023.3)\n",
      "Requirement already satisfied: charset-normalizer<4,>=2 in /opt/anaconda3/lib/python3.11/site-packages (from requests>=2.31->yfinance) (2.0.4)\n",
      "Requirement already satisfied: idna<4,>=2.5 in /opt/anaconda3/lib/python3.11/site-packages (from requests>=2.31->yfinance) (3.4)\n",
      "Requirement already satisfied: urllib3<3,>=1.21.1 in /opt/anaconda3/lib/python3.11/site-packages (from requests>=2.31->yfinance) (2.0.7)\n",
      "Requirement already satisfied: certifi>=2017.4.17 in /opt/anaconda3/lib/python3.11/site-packages (from requests>=2.31->yfinance) (2024.2.2)\n",
      "Note: you may need to restart the kernel to use updated packages.\n"
     ]
    }
   ],
   "source": [
    "pip install yfinance\n"
   ]
  },
  {
   "cell_type": "markdown",
   "id": "a33cfdf1-a6e2-4b4f-99bd-11771b69a6d3",
   "metadata": {},
   "source": [
    "# Load the Facebook Dataset from Yahoo Finance"
   ]
  },
  {
   "cell_type": "code",
   "execution_count": 90,
   "id": "13145163-5cb5-4d98-930a-46eaea480976",
   "metadata": {},
   "outputs": [
    {
     "name": "stderr",
     "output_type": "stream",
     "text": [
      "[*********************100%***********************]  1 of 1 completed\n"
     ]
    }
   ],
   "source": [
    "import yfinance as yf\n",
    "import pandas as pd\n",
    "\n",
    "# Define the stock ticker symbol for Facebook (Meta Platforms, Inc.)\n",
    "ticker = \"META\"\n",
    "\n",
    "# Download the historical stock price data\n",
    "# You can specify the date range using the start and end parameters\n",
    "fb = yf.download(ticker, start=\"2020-01-01\", end=\"2023-12-31\")\n",
    "\n",
    "# Display the first few rows of the data\n",
    "fb.head()\n",
    "\n",
    "# Save the data to a CSV file if needed\n",
    "fb.to_csv(\"facebook_stock_prices.csv\")\n"
   ]
  },
  {
   "cell_type": "code",
   "execution_count": 91,
   "id": "09e693f8-b392-46d2-aa18-91ff327ed907",
   "metadata": {},
   "outputs": [
    {
     "data": {
      "text/html": [
       "<div>\n",
       "<style scoped>\n",
       "    .dataframe tbody tr th:only-of-type {\n",
       "        vertical-align: middle;\n",
       "    }\n",
       "\n",
       "    .dataframe tbody tr th {\n",
       "        vertical-align: top;\n",
       "    }\n",
       "\n",
       "    .dataframe thead tr th {\n",
       "        text-align: left;\n",
       "    }\n",
       "\n",
       "    .dataframe thead tr:last-of-type th {\n",
       "        text-align: right;\n",
       "    }\n",
       "</style>\n",
       "<table border=\"1\" class=\"dataframe\">\n",
       "  <thead>\n",
       "    <tr>\n",
       "      <th>Price</th>\n",
       "      <th>Adj Close</th>\n",
       "      <th>Close</th>\n",
       "      <th>High</th>\n",
       "      <th>Low</th>\n",
       "      <th>Open</th>\n",
       "      <th>Volume</th>\n",
       "    </tr>\n",
       "    <tr>\n",
       "      <th>Ticker</th>\n",
       "      <th>META</th>\n",
       "      <th>META</th>\n",
       "      <th>META</th>\n",
       "      <th>META</th>\n",
       "      <th>META</th>\n",
       "      <th>META</th>\n",
       "    </tr>\n",
       "    <tr>\n",
       "      <th>Date</th>\n",
       "      <th></th>\n",
       "      <th></th>\n",
       "      <th></th>\n",
       "      <th></th>\n",
       "      <th></th>\n",
       "      <th></th>\n",
       "    </tr>\n",
       "  </thead>\n",
       "  <tbody>\n",
       "    <tr>\n",
       "      <th>2020-01-02</th>\n",
       "      <td>208.981689</td>\n",
       "      <td>209.779999</td>\n",
       "      <td>209.789993</td>\n",
       "      <td>206.270004</td>\n",
       "      <td>206.750000</td>\n",
       "      <td>12077100</td>\n",
       "    </tr>\n",
       "    <tr>\n",
       "      <th>2020-01-03</th>\n",
       "      <td>207.875931</td>\n",
       "      <td>208.669998</td>\n",
       "      <td>210.399994</td>\n",
       "      <td>206.949997</td>\n",
       "      <td>207.210007</td>\n",
       "      <td>11188400</td>\n",
       "    </tr>\n",
       "    <tr>\n",
       "      <th>2020-01-06</th>\n",
       "      <td>211.790970</td>\n",
       "      <td>212.600006</td>\n",
       "      <td>212.779999</td>\n",
       "      <td>206.520004</td>\n",
       "      <td>206.699997</td>\n",
       "      <td>17058900</td>\n",
       "    </tr>\n",
       "    <tr>\n",
       "      <th>2020-01-07</th>\n",
       "      <td>212.249207</td>\n",
       "      <td>213.059998</td>\n",
       "      <td>214.580002</td>\n",
       "      <td>211.750000</td>\n",
       "      <td>212.820007</td>\n",
       "      <td>14912400</td>\n",
       "    </tr>\n",
       "    <tr>\n",
       "      <th>2020-01-08</th>\n",
       "      <td>214.401001</td>\n",
       "      <td>215.220001</td>\n",
       "      <td>216.240005</td>\n",
       "      <td>212.610001</td>\n",
       "      <td>213.000000</td>\n",
       "      <td>13475000</td>\n",
       "    </tr>\n",
       "  </tbody>\n",
       "</table>\n",
       "</div>"
      ],
      "text/plain": [
       "Price        Adj Close       Close        High         Low        Open  \\\n",
       "Ticker            META        META        META        META        META   \n",
       "Date                                                                     \n",
       "2020-01-02  208.981689  209.779999  209.789993  206.270004  206.750000   \n",
       "2020-01-03  207.875931  208.669998  210.399994  206.949997  207.210007   \n",
       "2020-01-06  211.790970  212.600006  212.779999  206.520004  206.699997   \n",
       "2020-01-07  212.249207  213.059998  214.580002  211.750000  212.820007   \n",
       "2020-01-08  214.401001  215.220001  216.240005  212.610001  213.000000   \n",
       "\n",
       "Price         Volume  \n",
       "Ticker          META  \n",
       "Date                  \n",
       "2020-01-02  12077100  \n",
       "2020-01-03  11188400  \n",
       "2020-01-06  17058900  \n",
       "2020-01-07  14912400  \n",
       "2020-01-08  13475000  "
      ]
     },
     "execution_count": 91,
     "metadata": {},
     "output_type": "execute_result"
    }
   ],
   "source": [
    "fb.head()"
   ]
  },
  {
   "cell_type": "code",
   "execution_count": 92,
   "id": "7fdb8a32-8f3e-4379-9e48-c92355cc1c59",
   "metadata": {},
   "outputs": [],
   "source": [
    "# Flatten the multi-level columns\n",
    "fb.columns = fb.columns.get_level_values(0)  # Use only the first level (Price, Close, etc.)\n"
   ]
  },
  {
   "cell_type": "markdown",
   "id": "6d357386-7a0c-4ebd-b8af-171ac5ee2805",
   "metadata": {},
   "source": [
    "### Create a new column PriceDiff in the data frame fb "
   ]
  },
  {
   "cell_type": "code",
   "execution_count": 93,
   "id": "fa75838e-8f8b-4484-a530-7d97c321eaf9",
   "metadata": {},
   "outputs": [
    {
     "data": {
      "text/html": [
       "<div>\n",
       "<style scoped>\n",
       "    .dataframe tbody tr th:only-of-type {\n",
       "        vertical-align: middle;\n",
       "    }\n",
       "\n",
       "    .dataframe tbody tr th {\n",
       "        vertical-align: top;\n",
       "    }\n",
       "\n",
       "    .dataframe thead th {\n",
       "        text-align: right;\n",
       "    }\n",
       "</style>\n",
       "<table border=\"1\" class=\"dataframe\">\n",
       "  <thead>\n",
       "    <tr style=\"text-align: right;\">\n",
       "      <th>Price</th>\n",
       "      <th>Adj Close</th>\n",
       "      <th>Close</th>\n",
       "      <th>High</th>\n",
       "      <th>Low</th>\n",
       "      <th>Open</th>\n",
       "      <th>Volume</th>\n",
       "      <th>price_diff</th>\n",
       "    </tr>\n",
       "    <tr>\n",
       "      <th>Date</th>\n",
       "      <th></th>\n",
       "      <th></th>\n",
       "      <th></th>\n",
       "      <th></th>\n",
       "      <th></th>\n",
       "      <th></th>\n",
       "      <th></th>\n",
       "    </tr>\n",
       "  </thead>\n",
       "  <tbody>\n",
       "    <tr>\n",
       "      <th>2020-01-02</th>\n",
       "      <td>208.981689</td>\n",
       "      <td>209.779999</td>\n",
       "      <td>209.789993</td>\n",
       "      <td>206.270004</td>\n",
       "      <td>206.750000</td>\n",
       "      <td>12077100</td>\n",
       "      <td>-1.110001</td>\n",
       "    </tr>\n",
       "    <tr>\n",
       "      <th>2020-01-03</th>\n",
       "      <td>207.875931</td>\n",
       "      <td>208.669998</td>\n",
       "      <td>210.399994</td>\n",
       "      <td>206.949997</td>\n",
       "      <td>207.210007</td>\n",
       "      <td>11188400</td>\n",
       "      <td>3.930008</td>\n",
       "    </tr>\n",
       "    <tr>\n",
       "      <th>2020-01-06</th>\n",
       "      <td>211.790970</td>\n",
       "      <td>212.600006</td>\n",
       "      <td>212.779999</td>\n",
       "      <td>206.520004</td>\n",
       "      <td>206.699997</td>\n",
       "      <td>17058900</td>\n",
       "      <td>0.459991</td>\n",
       "    </tr>\n",
       "    <tr>\n",
       "      <th>2020-01-07</th>\n",
       "      <td>212.249207</td>\n",
       "      <td>213.059998</td>\n",
       "      <td>214.580002</td>\n",
       "      <td>211.750000</td>\n",
       "      <td>212.820007</td>\n",
       "      <td>14912400</td>\n",
       "      <td>2.160004</td>\n",
       "    </tr>\n",
       "    <tr>\n",
       "      <th>2020-01-08</th>\n",
       "      <td>214.401001</td>\n",
       "      <td>215.220001</td>\n",
       "      <td>216.240005</td>\n",
       "      <td>212.610001</td>\n",
       "      <td>213.000000</td>\n",
       "      <td>13475000</td>\n",
       "      <td>3.080002</td>\n",
       "    </tr>\n",
       "  </tbody>\n",
       "</table>\n",
       "</div>"
      ],
      "text/plain": [
       "Price        Adj Close       Close        High         Low        Open  \\\n",
       "Date                                                                     \n",
       "2020-01-02  208.981689  209.779999  209.789993  206.270004  206.750000   \n",
       "2020-01-03  207.875931  208.669998  210.399994  206.949997  207.210007   \n",
       "2020-01-06  211.790970  212.600006  212.779999  206.520004  206.699997   \n",
       "2020-01-07  212.249207  213.059998  214.580002  211.750000  212.820007   \n",
       "2020-01-08  214.401001  215.220001  216.240005  212.610001  213.000000   \n",
       "\n",
       "Price         Volume  price_diff  \n",
       "Date                              \n",
       "2020-01-02  12077100   -1.110001  \n",
       "2020-01-03  11188400    3.930008  \n",
       "2020-01-06  17058900    0.459991  \n",
       "2020-01-07  14912400    2.160004  \n",
       "2020-01-08  13475000    3.080002  "
      ]
     },
     "execution_count": 93,
     "metadata": {},
     "output_type": "execute_result"
    }
   ],
   "source": [
    "fb['price_diff']=fb['Close'].shift(-1)-fb['Close']\n",
    "fb.head()"
   ]
  },
  {
   "cell_type": "markdown",
   "id": "55882df6-451b-4631-829f-0c42f4181b79",
   "metadata": {},
   "source": [
    "### Display the price difference of facebook on 2020-02-06 i.e 6th of Feb 2020"
   ]
  },
  {
   "cell_type": "code",
   "execution_count": 94,
   "id": "feb6256a-996f-4fe6-8fcb-38289554fe2b",
   "metadata": {},
   "outputs": [
    {
     "data": {
      "text/plain": [
       "1.4799957275390625"
      ]
     },
     "execution_count": 94,
     "metadata": {},
     "output_type": "execute_result"
    }
   ],
   "source": [
    "fb['price_diff'].loc['2020-02-06']"
   ]
  },
  {
   "cell_type": "markdown",
   "id": "09aa8859-6f24-4aa7-bcb8-0345718eab71",
   "metadata": {},
   "source": [
    "### create a new column daily returns in the data frame 'fb' where daily return is calculated using the following formula\n",
    "### Daily Return= price difference/closing price"
   ]
  },
  {
   "cell_type": "code",
   "execution_count": 95,
   "id": "04958c28-2142-4776-9e25-cc2930658ee2",
   "metadata": {},
   "outputs": [
    {
     "name": "stdout",
     "output_type": "stream",
     "text": [
      "<class 'pandas.core.series.Series'>\n",
      "<class 'pandas.core.series.Series'>\n"
     ]
    }
   ],
   "source": [
    "print(type(fb['price_diff']))\n",
    "print(type(fb['Close']))\n",
    "\n"
   ]
  },
  {
   "cell_type": "code",
   "execution_count": 96,
   "id": "c7d2e3db-e471-40a4-b7ca-378b9fc92ac4",
   "metadata": {},
   "outputs": [
    {
     "data": {
      "text/html": [
       "<div>\n",
       "<style scoped>\n",
       "    .dataframe tbody tr th:only-of-type {\n",
       "        vertical-align: middle;\n",
       "    }\n",
       "\n",
       "    .dataframe tbody tr th {\n",
       "        vertical-align: top;\n",
       "    }\n",
       "\n",
       "    .dataframe thead th {\n",
       "        text-align: right;\n",
       "    }\n",
       "</style>\n",
       "<table border=\"1\" class=\"dataframe\">\n",
       "  <thead>\n",
       "    <tr style=\"text-align: right;\">\n",
       "      <th>Price</th>\n",
       "      <th>Adj Close</th>\n",
       "      <th>Close</th>\n",
       "      <th>High</th>\n",
       "      <th>Low</th>\n",
       "      <th>Open</th>\n",
       "      <th>Volume</th>\n",
       "      <th>price_diff</th>\n",
       "      <th>daily_return</th>\n",
       "    </tr>\n",
       "    <tr>\n",
       "      <th>Date</th>\n",
       "      <th></th>\n",
       "      <th></th>\n",
       "      <th></th>\n",
       "      <th></th>\n",
       "      <th></th>\n",
       "      <th></th>\n",
       "      <th></th>\n",
       "      <th></th>\n",
       "    </tr>\n",
       "  </thead>\n",
       "  <tbody>\n",
       "    <tr>\n",
       "      <th>2020-01-02</th>\n",
       "      <td>208.981689</td>\n",
       "      <td>209.779999</td>\n",
       "      <td>209.789993</td>\n",
       "      <td>206.270004</td>\n",
       "      <td>206.750000</td>\n",
       "      <td>12077100</td>\n",
       "      <td>-1.110001</td>\n",
       "      <td>-0.005291</td>\n",
       "    </tr>\n",
       "    <tr>\n",
       "      <th>2020-01-03</th>\n",
       "      <td>207.875931</td>\n",
       "      <td>208.669998</td>\n",
       "      <td>210.399994</td>\n",
       "      <td>206.949997</td>\n",
       "      <td>207.210007</td>\n",
       "      <td>11188400</td>\n",
       "      <td>3.930008</td>\n",
       "      <td>0.018834</td>\n",
       "    </tr>\n",
       "    <tr>\n",
       "      <th>2020-01-06</th>\n",
       "      <td>211.790970</td>\n",
       "      <td>212.600006</td>\n",
       "      <td>212.779999</td>\n",
       "      <td>206.520004</td>\n",
       "      <td>206.699997</td>\n",
       "      <td>17058900</td>\n",
       "      <td>0.459991</td>\n",
       "      <td>0.002164</td>\n",
       "    </tr>\n",
       "    <tr>\n",
       "      <th>2020-01-07</th>\n",
       "      <td>212.249207</td>\n",
       "      <td>213.059998</td>\n",
       "      <td>214.580002</td>\n",
       "      <td>211.750000</td>\n",
       "      <td>212.820007</td>\n",
       "      <td>14912400</td>\n",
       "      <td>2.160004</td>\n",
       "      <td>0.010138</td>\n",
       "    </tr>\n",
       "    <tr>\n",
       "      <th>2020-01-08</th>\n",
       "      <td>214.401001</td>\n",
       "      <td>215.220001</td>\n",
       "      <td>216.240005</td>\n",
       "      <td>212.610001</td>\n",
       "      <td>213.000000</td>\n",
       "      <td>13475000</td>\n",
       "      <td>3.080002</td>\n",
       "      <td>0.014311</td>\n",
       "    </tr>\n",
       "  </tbody>\n",
       "</table>\n",
       "</div>"
      ],
      "text/plain": [
       "Price        Adj Close       Close        High         Low        Open  \\\n",
       "Date                                                                     \n",
       "2020-01-02  208.981689  209.779999  209.789993  206.270004  206.750000   \n",
       "2020-01-03  207.875931  208.669998  210.399994  206.949997  207.210007   \n",
       "2020-01-06  211.790970  212.600006  212.779999  206.520004  206.699997   \n",
       "2020-01-07  212.249207  213.059998  214.580002  211.750000  212.820007   \n",
       "2020-01-08  214.401001  215.220001  216.240005  212.610001  213.000000   \n",
       "\n",
       "Price         Volume  price_diff  daily_return  \n",
       "Date                                            \n",
       "2020-01-02  12077100   -1.110001     -0.005291  \n",
       "2020-01-03  11188400    3.930008      0.018834  \n",
       "2020-01-06  17058900    0.459991      0.002164  \n",
       "2020-01-07  14912400    2.160004      0.010138  \n",
       "2020-01-08  13475000    3.080002      0.014311  "
      ]
     },
     "execution_count": 96,
     "metadata": {},
     "output_type": "execute_result"
    }
   ],
   "source": [
    "fb['daily_return']=fb['price_diff']/fb['Close']\n",
    "fb.head()"
   ]
  },
  {
   "cell_type": "markdown",
   "id": "10a970ce-6551-4b73-ba39-afffafed8e0d",
   "metadata": {},
   "source": [
    "### Create a new column called 'Trend' using list comprehension method i.e if the price differennce is greater than 0 denote 1 (uptrend) else denote 0 (downtrend) for every index record of the data frame"
   ]
  },
  {
   "cell_type": "code",
   "execution_count": 97,
   "id": "71d25c58-235f-4db3-b29d-a5e9872c2eb3",
   "metadata": {},
   "outputs": [
    {
     "data": {
      "text/html": [
       "<div>\n",
       "<style scoped>\n",
       "    .dataframe tbody tr th:only-of-type {\n",
       "        vertical-align: middle;\n",
       "    }\n",
       "\n",
       "    .dataframe tbody tr th {\n",
       "        vertical-align: top;\n",
       "    }\n",
       "\n",
       "    .dataframe thead th {\n",
       "        text-align: right;\n",
       "    }\n",
       "</style>\n",
       "<table border=\"1\" class=\"dataframe\">\n",
       "  <thead>\n",
       "    <tr style=\"text-align: right;\">\n",
       "      <th>Price</th>\n",
       "      <th>Adj Close</th>\n",
       "      <th>Close</th>\n",
       "      <th>High</th>\n",
       "      <th>Low</th>\n",
       "      <th>Open</th>\n",
       "      <th>Volume</th>\n",
       "      <th>price_diff</th>\n",
       "      <th>daily_return</th>\n",
       "      <th>Trend</th>\n",
       "    </tr>\n",
       "    <tr>\n",
       "      <th>Date</th>\n",
       "      <th></th>\n",
       "      <th></th>\n",
       "      <th></th>\n",
       "      <th></th>\n",
       "      <th></th>\n",
       "      <th></th>\n",
       "      <th></th>\n",
       "      <th></th>\n",
       "      <th></th>\n",
       "    </tr>\n",
       "  </thead>\n",
       "  <tbody>\n",
       "    <tr>\n",
       "      <th>2020-01-02</th>\n",
       "      <td>208.981689</td>\n",
       "      <td>209.779999</td>\n",
       "      <td>209.789993</td>\n",
       "      <td>206.270004</td>\n",
       "      <td>206.750000</td>\n",
       "      <td>12077100</td>\n",
       "      <td>-1.110001</td>\n",
       "      <td>-0.005291</td>\n",
       "      <td>0</td>\n",
       "    </tr>\n",
       "    <tr>\n",
       "      <th>2020-01-03</th>\n",
       "      <td>207.875931</td>\n",
       "      <td>208.669998</td>\n",
       "      <td>210.399994</td>\n",
       "      <td>206.949997</td>\n",
       "      <td>207.210007</td>\n",
       "      <td>11188400</td>\n",
       "      <td>3.930008</td>\n",
       "      <td>0.018834</td>\n",
       "      <td>1</td>\n",
       "    </tr>\n",
       "    <tr>\n",
       "      <th>2020-01-06</th>\n",
       "      <td>211.790970</td>\n",
       "      <td>212.600006</td>\n",
       "      <td>212.779999</td>\n",
       "      <td>206.520004</td>\n",
       "      <td>206.699997</td>\n",
       "      <td>17058900</td>\n",
       "      <td>0.459991</td>\n",
       "      <td>0.002164</td>\n",
       "      <td>1</td>\n",
       "    </tr>\n",
       "    <tr>\n",
       "      <th>2020-01-07</th>\n",
       "      <td>212.249207</td>\n",
       "      <td>213.059998</td>\n",
       "      <td>214.580002</td>\n",
       "      <td>211.750000</td>\n",
       "      <td>212.820007</td>\n",
       "      <td>14912400</td>\n",
       "      <td>2.160004</td>\n",
       "      <td>0.010138</td>\n",
       "      <td>1</td>\n",
       "    </tr>\n",
       "    <tr>\n",
       "      <th>2020-01-08</th>\n",
       "      <td>214.401001</td>\n",
       "      <td>215.220001</td>\n",
       "      <td>216.240005</td>\n",
       "      <td>212.610001</td>\n",
       "      <td>213.000000</td>\n",
       "      <td>13475000</td>\n",
       "      <td>3.080002</td>\n",
       "      <td>0.014311</td>\n",
       "      <td>1</td>\n",
       "    </tr>\n",
       "  </tbody>\n",
       "</table>\n",
       "</div>"
      ],
      "text/plain": [
       "Price        Adj Close       Close        High         Low        Open  \\\n",
       "Date                                                                     \n",
       "2020-01-02  208.981689  209.779999  209.789993  206.270004  206.750000   \n",
       "2020-01-03  207.875931  208.669998  210.399994  206.949997  207.210007   \n",
       "2020-01-06  211.790970  212.600006  212.779999  206.520004  206.699997   \n",
       "2020-01-07  212.249207  213.059998  214.580002  211.750000  212.820007   \n",
       "2020-01-08  214.401001  215.220001  216.240005  212.610001  213.000000   \n",
       "\n",
       "Price         Volume  price_diff  daily_return  Trend  \n",
       "Date                                                   \n",
       "2020-01-02  12077100   -1.110001     -0.005291      0  \n",
       "2020-01-03  11188400    3.930008      0.018834      1  \n",
       "2020-01-06  17058900    0.459991      0.002164      1  \n",
       "2020-01-07  14912400    2.160004      0.010138      1  \n",
       "2020-01-08  13475000    3.080002      0.014311      1  "
      ]
     },
     "execution_count": 97,
     "metadata": {},
     "output_type": "execute_result"
    }
   ],
   "source": [
    "fb['Trend'] = [1 if fb['price_diff'].loc[i] > 0 else 0 for i in fb.index]\n",
    "fb.head()\n"
   ]
  },
  {
   "cell_type": "markdown",
   "id": "12b46251-6a34-4c37-99dc-df6822bdcf14",
   "metadata": {},
   "source": [
    "### .rolling() function is used to calculate the moving average"
   ]
  },
  {
   "cell_type": "code",
   "execution_count": 101,
   "id": "1bae012a-fb65-4373-9279-d5df5c248fb2",
   "metadata": {},
   "outputs": [
    {
     "data": {
      "text/plain": [
       "Date\n",
       "2020-01-02         NaN\n",
       "2020-01-03         NaN\n",
       "2020-01-06         NaN\n",
       "2020-01-07         NaN\n",
       "2020-01-08         NaN\n",
       "                ...   \n",
       "2023-12-22    325.3110\n",
       "2023-12-26    326.1138\n",
       "2023-12-27    326.8474\n",
       "2023-12-28    327.5338\n",
       "2023-12-29    328.2736\n",
       "Name: ma50, Length: 1006, dtype: float64"
      ]
     },
     "execution_count": 101,
     "metadata": {},
     "output_type": "execute_result"
    }
   ],
   "source": [
    "fb['ma50']=fb['Close'].rolling(50).mean()\n",
    "fb['ma50']"
   ]
  },
  {
   "cell_type": "code",
   "execution_count": 102,
   "id": "60c5398a-e58c-48d6-a767-51210c93b02b",
   "metadata": {},
   "outputs": [
    {
     "data": {
      "text/plain": [
       "49"
      ]
     },
     "execution_count": 102,
     "metadata": {},
     "output_type": "execute_result"
    }
   ],
   "source": [
    "fb['ma50'].isnull().sum()"
   ]
  },
  {
   "cell_type": "code",
   "execution_count": 105,
   "id": "c98084e5-2ea6-4ec1-bfd5-beaf03c8d70a",
   "metadata": {},
   "outputs": [
    {
     "name": "stderr",
     "output_type": "stream",
     "text": [
      "/var/folders/q5/4fzp484s7_521gjnj1hlzpnr0000gn/T/ipykernel_82003/2393982031.py:1: FutureWarning: Series.fillna with 'method' is deprecated and will raise in a future version. Use obj.ffill() or obj.bfill() instead.\n",
      "  fb['ma50']=fb['ma50'].fillna(method='ffill')\n"
     ]
    }
   ],
   "source": [
    "fb['ma50']=fb['ma50'].fillna(method='ffill')"
   ]
  },
  {
   "cell_type": "code",
   "execution_count": 107,
   "id": "50838e43-bcba-444c-bbc6-ab7a2afb385e",
   "metadata": {},
   "outputs": [
    {
     "data": {
      "text/plain": [
       "Date\n",
       "2020-01-02           NaN\n",
       "2020-01-03           NaN\n",
       "2020-01-06           NaN\n",
       "2020-01-07           NaN\n",
       "2020-01-08           NaN\n",
       "                 ...    \n",
       "2023-12-22    341.407001\n",
       "2023-12-26    344.362000\n",
       "2023-12-27    346.722998\n",
       "2023-12-28    349.081000\n",
       "2023-12-29    351.159998\n",
       "Name: ma10, Length: 1006, dtype: float64"
      ]
     },
     "execution_count": 107,
     "metadata": {},
     "output_type": "execute_result"
    }
   ],
   "source": [
    "fb['ma10']=fb['Close'].rolling(10).mean()\n",
    "fb.ma10"
   ]
  },
  {
   "cell_type": "markdown",
   "id": "fb367bd7-f789-4d76-adbf-b3249fe54adc",
   "metadata": {},
   "source": [
    "### Plotting the moving average"
   ]
  },
  {
   "cell_type": "code",
   "execution_count": 108,
   "id": "cc0e92ed-65ba-4cce-95c1-5662eb8c1a22",
   "metadata": {},
   "outputs": [
    {
     "data": {
      "image/png": "[encoded data removed]",
      "text/plain": [
       "<Figure size 640x480 with 1 Axes>"
      ]
     },
     "metadata": {},
     "output_type": "display_data"
    }
   ],
   "source": [
    "import matplotlib.pyplot as plt\n",
    "%matplotlib inline\n",
    "fb['ma50'].loc['2020-02-06':'2021-02-06'].plot(label='ma50')\n",
    "fb['Close'].loc['2020-02-06':'2021-02-06'].plot(label='Close')\n",
    "plt.legend()\n",
    "plt.show()"
   ]
  },
  {
   "cell_type": "markdown",
   "id": "84731634-abd9-48c2-ad34-0720cae95f42",
   "metadata": {},
   "source": [
    "### Add a new column \"Strategy\", if ma10>ma50 denote as 1 ( we will long/buy a share) else denote as 0 (we will do nothing)"
   ]
  },
  {
   "cell_type": "code",
   "execution_count": 109,
   "id": "8af4a902-6e92-49b9-9ff8-a4a2ae8c02f3",
   "metadata": {},
   "outputs": [
    {
     "data": {
      "text/html": [
       "<div>\n",
       "<style scoped>\n",
       "    .dataframe tbody tr th:only-of-type {\n",
       "        vertical-align: middle;\n",
       "    }\n",
       "\n",
       "    .dataframe tbody tr th {\n",
       "        vertical-align: top;\n",
       "    }\n",
       "\n",
       "    .dataframe thead th {\n",
       "        text-align: right;\n",
       "    }\n",
       "</style>\n",
       "<table border=\"1\" class=\"dataframe\">\n",
       "  <thead>\n",
       "    <tr style=\"text-align: right;\">\n",
       "      <th>Price</th>\n",
       "      <th>Adj Close</th>\n",
       "      <th>Close</th>\n",
       "      <th>High</th>\n",
       "      <th>Low</th>\n",
       "      <th>Open</th>\n",
       "      <th>Volume</th>\n",
       "      <th>price_diff</th>\n",
       "      <th>daily_return</th>\n",
       "      <th>Trend</th>\n",
       "      <th>ma50</th>\n",
       "      <th>ma10</th>\n",
       "      <th>Strategy</th>\n",
       "    </tr>\n",
       "    <tr>\n",
       "      <th>Date</th>\n",
       "      <th></th>\n",
       "      <th></th>\n",
       "      <th></th>\n",
       "      <th></th>\n",
       "      <th></th>\n",
       "      <th></th>\n",
       "      <th></th>\n",
       "      <th></th>\n",
       "      <th></th>\n",
       "      <th></th>\n",
       "      <th></th>\n",
       "      <th></th>\n",
       "    </tr>\n",
       "  </thead>\n",
       "  <tbody>\n",
       "    <tr>\n",
       "      <th>2020-01-02</th>\n",
       "      <td>208.981689</td>\n",
       "      <td>209.779999</td>\n",
       "      <td>209.789993</td>\n",
       "      <td>206.270004</td>\n",
       "      <td>206.750000</td>\n",
       "      <td>12077100</td>\n",
       "      <td>-1.110001</td>\n",
       "      <td>-0.005291</td>\n",
       "      <td>0</td>\n",
       "      <td>NaN</td>\n",
       "      <td>NaN</td>\n",
       "      <td>0</td>\n",
       "    </tr>\n",
       "    <tr>\n",
       "      <th>2020-01-03</th>\n",
       "      <td>207.875931</td>\n",
       "      <td>208.669998</td>\n",
       "      <td>210.399994</td>\n",
       "      <td>206.949997</td>\n",
       "      <td>207.210007</td>\n",
       "      <td>11188400</td>\n",
       "      <td>3.930008</td>\n",
       "      <td>0.018834</td>\n",
       "      <td>1</td>\n",
       "      <td>NaN</td>\n",
       "      <td>NaN</td>\n",
       "      <td>0</td>\n",
       "    </tr>\n",
       "    <tr>\n",
       "      <th>2020-01-06</th>\n",
       "      <td>211.790970</td>\n",
       "      <td>212.600006</td>\n",
       "      <td>212.779999</td>\n",
       "      <td>206.520004</td>\n",
       "      <td>206.699997</td>\n",
       "      <td>17058900</td>\n",
       "      <td>0.459991</td>\n",
       "      <td>0.002164</td>\n",
       "      <td>1</td>\n",
       "      <td>NaN</td>\n",
       "      <td>NaN</td>\n",
       "      <td>0</td>\n",
       "    </tr>\n",
       "    <tr>\n",
       "      <th>2020-01-07</th>\n",
       "      <td>212.249207</td>\n",
       "      <td>213.059998</td>\n",
       "      <td>214.580002</td>\n",
       "      <td>211.750000</td>\n",
       "      <td>212.820007</td>\n",
       "      <td>14912400</td>\n",
       "      <td>2.160004</td>\n",
       "      <td>0.010138</td>\n",
       "      <td>1</td>\n",
       "      <td>NaN</td>\n",
       "      <td>NaN</td>\n",
       "      <td>0</td>\n",
       "    </tr>\n",
       "    <tr>\n",
       "      <th>2020-01-08</th>\n",
       "      <td>214.401001</td>\n",
       "      <td>215.220001</td>\n",
       "      <td>216.240005</td>\n",
       "      <td>212.610001</td>\n",
       "      <td>213.000000</td>\n",
       "      <td>13475000</td>\n",
       "      <td>3.080002</td>\n",
       "      <td>0.014311</td>\n",
       "      <td>1</td>\n",
       "      <td>NaN</td>\n",
       "      <td>NaN</td>\n",
       "      <td>0</td>\n",
       "    </tr>\n",
       "  </tbody>\n",
       "</table>\n",
       "</div>"
      ],
      "text/plain": [
       "Price        Adj Close       Close        High         Low        Open  \\\n",
       "Date                                                                     \n",
       "2020-01-02  208.981689  209.779999  209.789993  206.270004  206.750000   \n",
       "2020-01-03  207.875931  208.669998  210.399994  206.949997  207.210007   \n",
       "2020-01-06  211.790970  212.600006  212.779999  206.520004  206.699997   \n",
       "2020-01-07  212.249207  213.059998  214.580002  211.750000  212.820007   \n",
       "2020-01-08  214.401001  215.220001  216.240005  212.610001  213.000000   \n",
       "\n",
       "Price         Volume  price_diff  daily_return  Trend  ma50  ma10  Strategy  \n",
       "Date                                                                         \n",
       "2020-01-02  12077100   -1.110001     -0.005291      0   NaN   NaN         0  \n",
       "2020-01-03  11188400    3.930008      0.018834      1   NaN   NaN         0  \n",
       "2020-01-06  17058900    0.459991      0.002164      1   NaN   NaN         0  \n",
       "2020-01-07  14912400    2.160004      0.010138      1   NaN   NaN         0  \n",
       "2020-01-08  13475000    3.080002      0.014311      1   NaN   NaN         0  "
      ]
     },
     "execution_count": 109,
     "metadata": {},
     "output_type": "execute_result"
    }
   ],
   "source": [
    "fb['Strategy']=[1 if fb.loc[i,'ma10']>fb.loc[i,'ma50'] else 0 for i in fb.index]\n",
    "fb.head()"
   ]
  },
  {
   "cell_type": "markdown",
   "id": "4e0e83e6-ff53-426c-b449-e5ed39ef47d7",
   "metadata": {},
   "source": [
    "### Add a new column called \"Profit\" using list comprehension for any rows in fb data frame, if Strategy==1 \n",
    "\n",
    "### the profit is calculated as close price of tomorrow - close price of today, else profit will be marked as 0"
   ]
  },
  {
   "cell_type": "code",
   "execution_count": 112,
   "id": "6a9b71ac-1495-49d2-84fa-29a6a945bdfa",
   "metadata": {},
   "outputs": [
    {
     "data": {
      "text/html": [
       "<div>\n",
       "<style scoped>\n",
       "    .dataframe tbody tr th:only-of-type {\n",
       "        vertical-align: middle;\n",
       "    }\n",
       "\n",
       "    .dataframe tbody tr th {\n",
       "        vertical-align: top;\n",
       "    }\n",
       "\n",
       "    .dataframe thead th {\n",
       "        text-align: right;\n",
       "    }\n",
       "</style>\n",
       "<table border=\"1\" class=\"dataframe\">\n",
       "  <thead>\n",
       "    <tr style=\"text-align: right;\">\n",
       "      <th>Price</th>\n",
       "      <th>Adj Close</th>\n",
       "      <th>Close</th>\n",
       "      <th>High</th>\n",
       "      <th>Low</th>\n",
       "      <th>Open</th>\n",
       "      <th>Volume</th>\n",
       "      <th>price_diff</th>\n",
       "      <th>daily_return</th>\n",
       "      <th>Trend</th>\n",
       "      <th>ma50</th>\n",
       "      <th>ma10</th>\n",
       "      <th>Strategy</th>\n",
       "      <th>Close_tomorrow</th>\n",
       "      <th>Profit</th>\n",
       "    </tr>\n",
       "    <tr>\n",
       "      <th>Date</th>\n",
       "      <th></th>\n",
       "      <th></th>\n",
       "      <th></th>\n",
       "      <th></th>\n",
       "      <th></th>\n",
       "      <th></th>\n",
       "      <th></th>\n",
       "      <th></th>\n",
       "      <th></th>\n",
       "      <th></th>\n",
       "      <th></th>\n",
       "      <th></th>\n",
       "      <th></th>\n",
       "      <th></th>\n",
       "    </tr>\n",
       "  </thead>\n",
       "  <tbody>\n",
       "    <tr>\n",
       "      <th>2020-01-02</th>\n",
       "      <td>208.981689</td>\n",
       "      <td>209.779999</td>\n",
       "      <td>209.789993</td>\n",
       "      <td>206.270004</td>\n",
       "      <td>206.750000</td>\n",
       "      <td>12077100</td>\n",
       "      <td>-1.110001</td>\n",
       "      <td>-0.005291</td>\n",
       "      <td>0</td>\n",
       "      <td>NaN</td>\n",
       "      <td>NaN</td>\n",
       "      <td>0</td>\n",
       "      <td>208.669998</td>\n",
       "      <td>0.0</td>\n",
       "    </tr>\n",
       "    <tr>\n",
       "      <th>2020-01-03</th>\n",
       "      <td>207.875931</td>\n",
       "      <td>208.669998</td>\n",
       "      <td>210.399994</td>\n",
       "      <td>206.949997</td>\n",
       "      <td>207.210007</td>\n",
       "      <td>11188400</td>\n",
       "      <td>3.930008</td>\n",
       "      <td>0.018834</td>\n",
       "      <td>1</td>\n",
       "      <td>NaN</td>\n",
       "      <td>NaN</td>\n",
       "      <td>0</td>\n",
       "      <td>212.600006</td>\n",
       "      <td>0.0</td>\n",
       "    </tr>\n",
       "    <tr>\n",
       "      <th>2020-01-06</th>\n",
       "      <td>211.790970</td>\n",
       "      <td>212.600006</td>\n",
       "      <td>212.779999</td>\n",
       "      <td>206.520004</td>\n",
       "      <td>206.699997</td>\n",
       "      <td>17058900</td>\n",
       "      <td>0.459991</td>\n",
       "      <td>0.002164</td>\n",
       "      <td>1</td>\n",
       "      <td>NaN</td>\n",
       "      <td>NaN</td>\n",
       "      <td>0</td>\n",
       "      <td>213.059998</td>\n",
       "      <td>0.0</td>\n",
       "    </tr>\n",
       "    <tr>\n",
       "      <th>2020-01-07</th>\n",
       "      <td>212.249207</td>\n",
       "      <td>213.059998</td>\n",
       "      <td>214.580002</td>\n",
       "      <td>211.750000</td>\n",
       "      <td>212.820007</td>\n",
       "      <td>14912400</td>\n",
       "      <td>2.160004</td>\n",
       "      <td>0.010138</td>\n",
       "      <td>1</td>\n",
       "      <td>NaN</td>\n",
       "      <td>NaN</td>\n",
       "      <td>0</td>\n",
       "      <td>215.220001</td>\n",
       "      <td>0.0</td>\n",
       "    </tr>\n",
       "    <tr>\n",
       "      <th>2020-01-08</th>\n",
       "      <td>214.401001</td>\n",
       "      <td>215.220001</td>\n",
       "      <td>216.240005</td>\n",
       "      <td>212.610001</td>\n",
       "      <td>213.000000</td>\n",
       "      <td>13475000</td>\n",
       "      <td>3.080002</td>\n",
       "      <td>0.014311</td>\n",
       "      <td>1</td>\n",
       "      <td>NaN</td>\n",
       "      <td>NaN</td>\n",
       "      <td>0</td>\n",
       "      <td>218.300003</td>\n",
       "      <td>0.0</td>\n",
       "    </tr>\n",
       "  </tbody>\n",
       "</table>\n",
       "</div>"
      ],
      "text/plain": [
       "Price        Adj Close       Close        High         Low        Open  \\\n",
       "Date                                                                     \n",
       "2020-01-02  208.981689  209.779999  209.789993  206.270004  206.750000   \n",
       "2020-01-03  207.875931  208.669998  210.399994  206.949997  207.210007   \n",
       "2020-01-06  211.790970  212.600006  212.779999  206.520004  206.699997   \n",
       "2020-01-07  212.249207  213.059998  214.580002  211.750000  212.820007   \n",
       "2020-01-08  214.401001  215.220001  216.240005  212.610001  213.000000   \n",
       "\n",
       "Price         Volume  price_diff  daily_return  Trend  ma50  ma10  Strategy  \\\n",
       "Date                                                                          \n",
       "2020-01-02  12077100   -1.110001     -0.005291      0   NaN   NaN         0   \n",
       "2020-01-03  11188400    3.930008      0.018834      1   NaN   NaN         0   \n",
       "2020-01-06  17058900    0.459991      0.002164      1   NaN   NaN         0   \n",
       "2020-01-07  14912400    2.160004      0.010138      1   NaN   NaN         0   \n",
       "2020-01-08  13475000    3.080002      0.014311      1   NaN   NaN         0   \n",
       "\n",
       "Price       Close_tomorrow  Profit  \n",
       "Date                                \n",
       "2020-01-02      208.669998     0.0  \n",
       "2020-01-03      212.600006     0.0  \n",
       "2020-01-06      213.059998     0.0  \n",
       "2020-01-07      215.220001     0.0  \n",
       "2020-01-08      218.300003     0.0  "
      ]
     },
     "execution_count": 112,
     "metadata": {},
     "output_type": "execute_result"
    }
   ],
   "source": [
    "fb['Close_tomorrow'] = fb['Close'].shift(-1)\n",
    "\n",
    "# Use a list comprehension with element-wise evaluation\n",
    "fb['Profit'] = [\n",
    "    fb.loc[i, 'Close_tomorrow'] - fb.loc[i, 'Close'] if fb.loc[i, 'Strategy'] == 1 else 0\n",
    "    for i in fb.index\n",
    "]\n",
    "\n",
    "fb.head()\n"
   ]
  },
  {
   "cell_type": "markdown",
   "id": "517c7224-234b-4144-83e3-98c3920941ac",
   "metadata": {},
   "source": [
    "### Cummulative Sum: Use .cumsum() function to calculate the accumulated wealth over the period"
   ]
  },
  {
   "cell_type": "code",
   "execution_count": 114,
   "id": "f65f241f-3ac2-4b53-9819-e3e21f18973e",
   "metadata": {},
   "outputs": [
    {
     "data": {
      "text/plain": [
       "Date\n",
       "2020-01-02      0.000000\n",
       "2020-01-03      0.000000\n",
       "2020-01-06      0.000000\n",
       "2020-01-07      0.000000\n",
       "2020-01-08      0.000000\n",
       "                 ...    \n",
       "2023-12-22    216.059975\n",
       "2023-12-26    219.059975\n",
       "2023-12-27    219.549995\n",
       "2023-12-28    215.189980\n",
       "2023-12-29           NaN\n",
       "Name: accumulated_wealth, Length: 1006, dtype: float64"
      ]
     },
     "execution_count": 114,
     "metadata": {},
     "output_type": "execute_result"
    }
   ],
   "source": [
    "fb['accumulated_wealth']= fb['Profit'].cumsum()\n",
    "fb['accumulated_wealth']"
   ]
  },
  {
   "cell_type": "markdown",
   "id": "0c8d2d6c-ca8c-4e39-b81f-e8da9c3e85b8",
   "metadata": {},
   "source": [
    "# Models for stock return using statistical analysis"
   ]
  },
  {
   "cell_type": "markdown",
   "id": "4077c3ea-cf60-4432-a350-77f1fe76f5a9",
   "metadata": {},
   "source": [
    "### Calculate the log return of the Facebook Stocks"
   ]
  },
  {
   "cell_type": "code",
   "execution_count": 118,
   "id": "ec20257c-5bfa-4854-aeb0-6ae455469c44",
   "metadata": {},
   "outputs": [
    {
     "data": {
      "text/plain": [
       "Date\n",
       "2020-01-02   -0.005305\n",
       "2020-01-03    0.018658\n",
       "2020-01-06    0.002161\n",
       "2020-01-07    0.010087\n",
       "2020-01-08    0.014210\n",
       "                ...   \n",
       "2023-12-22    0.004066\n",
       "2023-12-26    0.008419\n",
       "2023-12-27    0.001368\n",
       "2023-12-28   -0.012243\n",
       "2023-12-29         NaN\n",
       "Name: Log_return, Length: 1006, dtype: float64"
      ]
     },
     "execution_count": 118,
     "metadata": {},
     "output_type": "execute_result"
    }
   ],
   "source": [
    "fb['Log_return'] = np.log(fb['Close'].shift(-1)) - np.log(fb['Close'])\n",
    "fb['Log_return']"
   ]
  },
  {
   "cell_type": "markdown",
   "id": "369dcb64-670b-4338-841d-4a6b96724319",
   "metadata": {},
   "source": [
    " ### Plot a histogram to show the distribution of the log return of Facebook stock. You can see that its very close to the normal distribution bcz of the magic of Central Limit Theorem"
   ]
  },
  {
   "cell_type": "code",
   "execution_count": 120,
   "id": "09d5b114-e6aa-40ce-96d8-0b2122735e9f",
   "metadata": {},
   "outputs": [
    {
     "data": {
      "image/png": "[encoded data removed]",
      "text/plain": [
       "<Figure size 1500x800 with 1 Axes>"
      ]
     },
     "metadata": {},
     "output_type": "display_data"
    }
   ],
   "source": [
    "import matplotlib.pyplot as plt\n",
    "import numpy as np\n",
    "from scipy.stats import norm\n",
    "\n",
    "\n",
    "# Create histogram of 'Log_return'\n",
    "plt.figure(figsize=(15, 8))\n",
    "plt.hist(fb['Log_return'].dropna(), bins=50, density=True, alpha=0.6, color='g')\n",
    "\n",
    "# Generate the normal distribution curve\n",
    "mu, sigma = fb['Log_return'].mean(), fb['Log_return'].std()\n",
    "density = pd.DataFrame()\n",
    "density['X'] = np.arange(fb['Log_return'].min() - 0.01, fb['Log_return'].max() + 0.01, 0.001)\n",
    "density['PDF'] = norm.pdf(density['X'], mu, sigma)\n",
    "\n",
    "# Plot the normal distribution\n",
    "plt.plot(density['X'], density['PDF'], color='red')\n",
    "\n",
    "# Show the plot\n",
    "plt.show()\n"
   ]
  },
  {
   "cell_type": "markdown",
   "id": "989e4b93-3d5c-465d-b4c3-5c3df7079fad",
   "metadata": {},
   "source": [
    "### Q) What is the probability that the stock price of Facebook will drop over 5% in a single day"
   ]
  },
  {
   "cell_type": "code",
   "execution_count": 123,
   "id": "ffb328a8-34db-45b5-904a-4ca1028986ca",
   "metadata": {},
   "outputs": [
    {
     "name": "stdout",
     "output_type": "stream",
     "text": [
      "the probability that the stock price of FB would drop by 5% in a day is:0.04578597048100883\n"
     ]
    }
   ],
   "source": [
    "drop_5= norm.cdf(-0.05,mu,sigma)\n",
    "print(f\"the probability that the stock price of FB would drop by 5% in a day is:{drop_5}\")"
   ]
  },
  {
   "cell_type": "markdown",
   "id": "b0c01587-b057-41b8-8d5c-0703f837f759",
   "metadata": {},
   "source": [
    "### Q) what is the probability that the stock price of Facebook will drop over 40% in 220 trading days"
   ]
  },
  {
   "cell_type": "code",
   "execution_count": 124,
   "id": "796a192a-e1f3-4e34-a09c-a1ccc5b337df",
   "metadata": {},
   "outputs": [
    {
     "name": "stdout",
     "output_type": "stream",
     "text": [
      "the probability that the stock price of FB would drop by 40% in a day is: 4.197253837983329e-41\n"
     ]
    }
   ],
   "source": [
    "mu220=220*mu\n",
    "sigma220=220*sigma\n",
    "drop40= norm.cdf(-0.40,mu,sigma)\n",
    "print(f\"the probability that the stock price of FB would drop by 40% in a day is: {drop40}\")"
   ]
  },
  {
   "cell_type": "markdown",
   "id": "62444fe4-4760-42ae-a635-5bd314c46d21",
   "metadata": {},
   "source": [
    "### Calculating the Value at Risk (VaR): it estimates the potential loss of a protfolio over a defined period at a given confidence level."
   ]
  },
  {
   "cell_type": "code",
   "execution_count": 125,
   "id": "13fd605f-cd65-411e-bd39-509f7e075e63",
   "metadata": {},
   "outputs": [
    {
     "name": "stdout",
     "output_type": "stream",
     "text": [
      "Single day VaR at 95% confidence interval is: -0.04873307423891674\n"
     ]
    }
   ],
   "source": [
    "VaR= norm.ppf(0.05,mu,sigma)\n",
    "print(f\"Single day VaR at 95% confidence interval is: {VaR}\")"
   ]
  },
  {
   "cell_type": "markdown",
   "id": "6e3d60b9-8b99-4cbd-9b36-e549ac29803c",
   "metadata": {},
   "source": [
    "# Hypothesis Testing"
   ]
  },
  {
   "cell_type": "markdown",
   "id": "37467dcc-7d90-4059-b988-ff8cbbc8728d",
   "metadata": {},
   "source": [
    "### we can see that the log retutn of our portfolio i.e the Facebook Stock goes up and down upon plotting"
   ]
  },
  {
   "cell_type": "code",
   "execution_count": 126,
   "id": "06d76cd9-f97b-4ffd-b3df-b04c45ca3c52",
   "metadata": {},
   "outputs": [
    {
     "data": {
      "image/png": "[encoded data removed]",
      "text/plain": [
       "<Figure size 2000x800 with 1 Axes>"
      ]
     },
     "metadata": {},
     "output_type": "display_data"
    }
   ],
   "source": [
    "fb['Log_return'].plot(figsize=(20,8))\n",
    "plt.axhline(0,color='red')\n",
    "plt.show()"
   ]
  },
  {
   "cell_type": "markdown",
   "id": "3c6e4d44-1de6-406c-bb7b-f3412dcbc716",
   "metadata": {},
   "source": [
    "### Set Hypotheis: \n",
    "### H0 (Null HYpothesis)- the avg. stock return is 0\n",
    "### H1 (Alternative Hypothesis)- the avg. stock return is not equal to 0\n"
   ]
  },
  {
   "cell_type": "markdown",
   "id": "a2c3ef8a-3b6f-4dba-8bf9-3e1d4b0a48a1",
   "metadata": {},
   "source": [
    "### Calulate the Z-Test Statistic as the sample size is greater than 30"
   ]
  },
  {
   "cell_type": "code",
   "execution_count": 138,
   "id": "d77f6fa1-c1e2-4c0e-b7cd-2b2f92a3f0e2",
   "metadata": {},
   "outputs": [
    {
     "data": {
      "text/plain": [
       "1006"
      ]
     },
     "execution_count": 138,
     "metadata": {},
     "output_type": "execute_result"
    }
   ],
   "source": [
    "n= fb['Log_return'].shape[0]\n",
    "n"
   ]
  },
  {
   "cell_type": "code",
   "execution_count": 128,
   "id": "755688aa-d01c-47b2-9db6-1649ec7aa77e",
   "metadata": {},
   "outputs": [
    {
     "data": {
      "text/plain": [
       "0.5513499336155414"
      ]
     },
     "execution_count": 128,
     "metadata": {},
     "output_type": "execute_result"
    }
   ],
   "source": [
    "sample_mean= fb['Log_return'].mean()\n",
    "sample_std= fb['Log_return'].std(ddof=1)\n",
    "n= fb['Log_return'].shape[0]\n",
    "Z_Test= (sample_mean-0)/(sample_std/n**0.5)\n",
    "Z_Test"
   ]
  },
  {
   "cell_type": "markdown",
   "id": "0a88f485-62ba-4e0e-84fd-3177f3cf01a2",
   "metadata": {},
   "source": [
    "#### i) norm.ppf(alpha/2, 0, 1) computes the Z-score for the left-tail critical value, where alpha/2 is the probability for one tail in a two-tailed test.\n",
    "#### ii) alpha/2 = 0.025 means that 2.5% of the data lies in the left tail.\n",
    "#### iii) Z_Left will give you the Z-score corresponding to this 2.5% left-tail probability (typically a negative value).\n",
    "#### iv) Z_Right = -Z_Left sets the Z-score for the right-tail, and it's the positive equivalent of Z_Left (typically a positive value).\n"
   ]
  },
  {
   "cell_type": "markdown",
   "id": "f699280f-ad96-4c6a-afc9-35ebddea2ee4",
   "metadata": {},
   "source": [
    "#### Set a decision criteria or critical value or confidence interval "
   ]
  },
  {
   "cell_type": "code",
   "execution_count": 131,
   "id": "eecafd57-7736-4198-8ae6-6d68dc37faf1",
   "metadata": {},
   "outputs": [
    {
     "name": "stdout",
     "output_type": "stream",
     "text": [
      "-1.9599639845400545 1.9599639845400545\n"
     ]
    }
   ],
   "source": [
    "alpha= 0.05\n",
    "Z_Left= norm.ppf(alpha/2,0,1)\n",
    "Z_Right= -Z_Left\n",
    "print(Z_Left,Z_Right)\n"
   ]
  },
  {
   "cell_type": "code",
   "execution_count": 132,
   "id": "73dd3f1f-1274-42a3-950b-b1af5881d533",
   "metadata": {},
   "outputs": [
    {
     "name": "stdout",
     "output_type": "stream",
     "text": [
      "since 0.5513499336155414 lies between -1.9599639845400545 and 1.9599639845400545 it falls within the acceptance region of the distribution hence under this circumstances we fail to reject the null hypothesis\n"
     ]
    }
   ],
   "source": [
    "print(f\"since {Z_Test} lies between {Z_Left} and {Z_Right} it falls within the acceptance region of the distribution hence under this circumstances we fail to reject the null hypothesis\" )"
   ]
  },
  {
   "cell_type": "markdown",
   "id": "f11ad34f-dcdf-4cf0-98d9-ec1dfcbb065f",
   "metadata": {},
   "source": [
    "# Hypothesis Testing using p-Value method"
   ]
  },
  {
   "cell_type": "code",
   "execution_count": 133,
   "id": "7f2cd8a3-372f-4603-91c8-a06e685b85ae",
   "metadata": {},
   "outputs": [
    {
     "data": {
      "text/plain": [
       "0.2906969073104857"
      ]
     },
     "execution_count": 133,
     "metadata": {},
     "output_type": "execute_result"
    }
   ],
   "source": [
    "p= 1-norm.cdf(Z_Test,0,1)\n",
    "p"
   ]
  },
  {
   "cell_type": "code",
   "execution_count": 136,
   "id": "87d43ee9-5788-4684-b59c-558bfe165917",
   "metadata": {},
   "outputs": [
    {
     "name": "stdout",
     "output_type": "stream",
     "text": [
      "since the p value ie 0.2906969073104857 is greater than the confidence level i.e 0.05 we fail to reject the null hypothesis\n"
     ]
    }
   ],
   "source": [
    "print(f\"since the p value ie {p} is greater than the confidence level i.e {alpha} we fail to reject the null hypothesis\")"
   ]
  }
 ],
 "metadata": {
  "kernelspec": {
   "display_name": "Python 3 (ipykernel)",
   "language": "python",
   "name": "python3"
  },
  "language_info": {
   "codemirror_mode": {
    "name": "ipython",
    "version": 3
   },
   "file_extension": ".py",
   "mimetype": "text/x-python",
   "name": "python",
   "nbconvert_exporter": "python",
   "pygments_lexer": "ipython3",
   "version": "3.11.7"
  }
 },
 "nbformat": 4,
 "nbformat_minor": 5
}
